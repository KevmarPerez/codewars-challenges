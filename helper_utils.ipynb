{
 "cells": [
  {
   "cell_type": "markdown",
   "metadata": {},
   "source": [
    "# Python Lambda\n",
    "#### Python Lambda Functions are anonymous function means that the function is without a name."
   ]
  },
  {
   "cell_type": "code",
   "execution_count": 1,
   "metadata": {},
   "outputs": [
    {
     "name": "stdout",
     "output_type": "stream",
     "text": [
      "SKEEGROFSKEEG\n"
     ]
    }
   ],
   "source": [
    "str1 = \"geeksforgeeks\"\n",
    "rev = lambda string: string.upper()[::-1]\n",
    "print(rev(str1))"
   ]
  },
  {
   "cell_type": "code",
   "execution_count": null,
   "metadata": {},
   "outputs": [],
   "source": [
    "num_rom_dict = {\n",
    "    'I': 1, 'IV': 4, 'V':5, 'X': 10, 'L':50, 'C': 100, 'C': 100, 'D': 500, 'M': 1000\n",
    "}\n",
    "\n",
    "new_keys, new_values = num_rom_dict.(), num_rom_dict.values()\n",
    "new = lambda key, value\n",
    "print(**num_rom_dict)\n",
    "\n"
   ]
  },
  {
   "cell_type": "code",
   "execution_count": 17,
   "metadata": {},
   "outputs": [
    {
     "name": "stdout",
     "output_type": "stream",
     "text": [
      "M\n"
     ]
    }
   ],
   "source": [
    "roman = ['I', 'IV', 'V','X', 'L' ,'C', 'D', 'M']\n",
    "numericals = [1,4,5,10,50,100,500,1000]\n",
    "num_rom_dict = {k:v for k,v in zip(roman, numericals)}\n",
    "rom_num_dict = {k:v for k,v in zip(numericals, roman)}\n",
    "num = 1000\n",
    "if num in numericals:\n",
    "    print(rom_num_dict[num])\n",
    "# print(num_rom_dict)\n",
    "# print(rom_num_dict)"
   ]
  },
  {
   "cell_type": "code",
   "execution_count": 19,
   "metadata": {},
   "outputs": [
    {
     "name": "stdout",
     "output_type": "stream",
     "text": [
      "['0', '9', '9', '1']\n"
     ]
    }
   ],
   "source": [
    "n = 1990\n",
    "num_str = str(n)\n",
    "num_list = [x for x in num_str[::-1]]\n",
    "print(num_list)"
   ]
  }
 ],
 "metadata": {
  "kernelspec": {
   "display_name": "Python 3.9.7 ('base')",
   "language": "python",
   "name": "python3"
  },
  "language_info": {
   "codemirror_mode": {
    "name": "ipython",
    "version": 3
   },
   "file_extension": ".py",
   "mimetype": "text/x-python",
   "name": "python",
   "nbconvert_exporter": "python",
   "pygments_lexer": "ipython3",
   "version": "3.9.7"
  },
  "orig_nbformat": 4,
  "vscode": {
   "interpreter": {
    "hash": "49cb93f377a7abe7414b7b0f21fb3017538004a126cf690fb524202736b7fb92"
   }
  }
 },
 "nbformat": 4,
 "nbformat_minor": 2
}
